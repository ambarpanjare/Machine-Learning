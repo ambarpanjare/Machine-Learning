{
  "nbformat": 4,
  "nbformat_minor": 0,
  "metadata": {
    "colab": {
      "provenance": []
    },
    "kernelspec": {
      "name": "python3",
      "display_name": "Python 3"
    },
    "language_info": {
      "name": "python"
    }
  },
  "cells": [
    {
      "cell_type": "code",
      "execution_count": 1,
      "metadata": {
        "id": "vjnYijeDlBTP"
      },
      "outputs": [],
      "source": [
        "#Importing necessary Libraries\n",
        "import numpy as np\n",
        "import pandas as pd\n",
        "import tensorflow as tf\n",
        "import keras\n",
        "from keras.models import Sequential  # for all deep learning neural network\n",
        "from keras.layers import Dense #for hidden layer\n",
        "from keras.layers import LeakyReLU,PReLU,ELU # for Activation function\n",
        "from keras. layers import Dropout  # to avoid overfittin---> if neural network is too deep we usually used this"
      ]
    },
    {
      "cell_type": "code",
      "source": [
        "#Import data set\n",
        "dataset= pd.read_csv('Churn_Modelling.csv')\n",
        "dataset.head()"
      ],
      "metadata": {
        "id": "9cet7bOel9rw"
      },
      "execution_count": null,
      "outputs": []
    },
    {
      "cell_type": "code",
      "source": [
        "\n",
        "X= dataset.iloc[:,3:-1]\n",
        "y=dataset.iloc[:,-1]\n",
        "X.head()\n",
        ""
      ],
      "metadata": {
        "id": "FUV2Bc4DmCyl"
      },
      "execution_count": null,
      "outputs": []
    },
    {
      "cell_type": "code",
      "source": [
        "geography=pd.get_dummies(X[\"Geography\"],drop_first=True)\n",
        "gender= pd.get_dummies(X['Gender'],drop_first=True)\n",
        ""
      ],
      "metadata": {
        "id": "0019QPdFmHOw"
      },
      "execution_count": 4,
      "outputs": []
    },
    {
      "cell_type": "code",
      "source": [
        "# concat\n",
        "X=pd.concat([X,geography,gender],axis=1)\n",
        "# Dropping\n",
        "X.drop(['Geography','Gender'],axis=1,inplace=True)\n",
        "X.head()"
      ],
      "metadata": {
        "id": "3d7pSn_QmMBH"
      },
      "execution_count": null,
      "outputs": []
    },
    {
      "cell_type": "code",
      "source": [
        "#splitting into training and test\n",
        "from sklearn.model_selection import train_test_split\n",
        "X_train,X_test,y_train,y_test=train_test_split(X,y,test_size=0.20,random_state=0)\n",
        ""
      ],
      "metadata": {
        "id": "WgggAmpFmRL4"
      },
      "execution_count": 6,
      "outputs": []
    },
    {
      "cell_type": "code",
      "source": [
        "# Feature scalling is must to converage will happen quickly\n",
        "\n",
        "from sklearn.preprocessing import StandardScaler\n",
        "sc=StandardScaler()\n",
        "X_train=sc.fit_transform(X_train)\n",
        "X_test=sc.transform(X_test)\n"
      ],
      "metadata": {
        "id": "6pmaFYJ3mYit"
      },
      "execution_count": 7,
      "outputs": []
    },
    {
      "cell_type": "code",
      "source": [
        "\n",
        "# Initialising the ANN\n",
        "classifier= Sequential()"
      ],
      "metadata": {
        "id": "iVJ2y_BvmaTQ"
      },
      "execution_count": 8,
      "outputs": []
    },
    {
      "cell_type": "code",
      "source": [
        "\n",
        "# Adding the input layer and the first hidden layer\n",
        "classifier.add(Dense(units=6,kernel_initializer='he_uniform',activation='relu',input_dim=11))\n",
        "# Adding the second hidden layer\n",
        "classifier.add(Dense(units=6,kernel_initializer='he_uniform',activation='relu'))\n",
        "\n",
        "# Adding the output layer\n",
        "classifier.add(Dense(units=1,kernel_initializer='glorot_uniform',activation='sigmoid'))\n",
        "classifier.summary()\n",
        ""
      ],
      "metadata": {
        "id": "dAuTLbPimcvb"
      },
      "execution_count": null,
      "outputs": []
    },
    {
      "cell_type": "code",
      "source": [
        "# compiling ANN\n",
        "classifier.compile(loss='binary_crossentropy',optimizer='adam',metrics=['accuracy'])"
      ],
      "metadata": {
        "id": "P1J5JzDQmgZC"
      },
      "execution_count": 10,
      "outputs": []
    },
    {
      "cell_type": "code",
      "source": [
        "#fitting the ANN to the training set\n",
        "model_history=classifier.fit(X_train,y_train,validation_split=0.33,batch_size=10,epochs=100)\n",
        ""
      ],
      "metadata": {
        "id": "y8L3CeZSmm7f"
      },
      "execution_count": null,
      "outputs": []
    },
    {
      "cell_type": "code",
      "source": [
        "# predicting the model\n",
        "y_pred= classifier.predict(X_test)\n",
        "y_pred= (y_pred>0.5)\n",
        "y_pred"
      ],
      "metadata": {
        "id": "5NfsjGQToIlV"
      },
      "execution_count": null,
      "outputs": []
    },
    {
      "cell_type": "code",
      "source": [
        "\n",
        "from sklearn.metrics import accuracy_score,confusion_matrix,classification_report\n",
        "\n",
        "cm= confusion_matrix(y_test,y_pred)\n",
        "print(cm)\n",
        "accuracy=accuracy_score(y_test,y_pred)\n",
        "print('The accuracy of the model is',accuracy)\n",
        "cl_report = classification_report(y_test,y_pred)\n",
        "print(cl_report)"
      ],
      "metadata": {
        "id": "4zTFpqaMnBgt"
      },
      "execution_count": null,
      "outputs": []
    },
    {
      "cell_type": "code",
      "source": [
        "import matplotlib.pyplot as plt\n",
        "print(model_history.history.keys())\n",
        "#summarize history for accuracy\n",
        "plt.plot(model_history.history['accuracy'])\n",
        "plt.plot(model_history.history['val_accuracy'])\n",
        "plt.title('model accuracy')\n",
        "plt.ylabel('accuracy')\n",
        "plt.xlabel('epoch')\n",
        "plt.legend(['train', 'test'], loc='upper left')\n",
        "plt.show()\n",
        ""
      ],
      "metadata": {
        "id": "4hcp-SYpnISw"
      },
      "execution_count": null,
      "outputs": []
    },
    {
      "cell_type": "code",
      "source": [],
      "metadata": {
        "id": "G77AxumMnJZQ"
      },
      "execution_count": null,
      "outputs": []
    }
  ]
}